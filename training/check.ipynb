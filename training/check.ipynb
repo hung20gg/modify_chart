{
 "cells": [
  {
   "cell_type": "code",
   "execution_count": 1,
   "id": "454eb66b",
   "metadata": {},
   "outputs": [],
   "source": [
    "path = '/Volumes/External Drive/chart_data'"
   ]
  },
  {
   "cell_type": "code",
   "execution_count": 2,
   "id": "45c65147",
   "metadata": {},
   "outputs": [],
   "source": [
    "import json\n",
    "with open(path + '/chart2code_160k.json', 'r') as f:\n",
    "    chart2code = json.load(f)\n",
    "\n"
   ]
  },
  {
   "cell_type": "code",
   "execution_count": 3,
   "id": "392cbacd",
   "metadata": {},
   "outputs": [
    {
     "data": {
      "text/plain": [
       "{'id': 1,\n",
       " 'image': 'images/1.png',\n",
       " 'conversations': [{'from': 'human',\n",
       "   'value': '<image>\\nYou are an expert developer specializing in writing Python matplotlib code based on a given picture.    I need your help to generate the Python code that can reproduce the picture based on the picture I provided.\\nTo ensure accuracy and detail in your recreation, you need to begin with a comprehensive analysis of the figure.    You should generate code snippets with the following steps\\n1.Layout and Chart Type Analysis: e.g., identify the picture’s composition, noting the presence,arrangement of any subplots and how many charts are within a subplot.\\n2.Data Analysis: e.g., summarize the data trend or pattern.\\n3.Additional Features: e.g., identify any supplementary elements such as legends, colormaps, tick labels, or text annotations that contribute to the figure’s clarity or aesthetic appeal.\\n4.Then generate the final code according to the previous analysis.'},\n",
       "  {'from': 'gpt',\n",
       "   'value': \"Step 1: Overall layout and diagram type analysis\\n# The figure contains a single pie chart, uses plt.figure(figsize=(8, 8)) to create a plot.\\nplt.figure(figsize=(8, 8))\\n\\n# Define the chart type\\nplt.pie([], explode=[], labels=[], colors=[], autopct='', shadow=False, startangle=90)\\n\\nStep 2: Data text and color analysis\\n# Dataset from generated csv_data\\nlabels = ['RPA_deployment', 'RPA_development', 'RPA_support', 'RPA_training']\\nsizes = [2400, 2600, 2800, 3000]\\ncolors = ['#00BFFF', '#FFEBCD', '#FF7F50', '#483D8B']\\nexplode = (0.1, 0, 0, 0)\\n\\n# Plotting\\nplt.figure(figsize=(8, 8))\\nplt.pie(sizes, explode=explode, labels=labels, colors=colors, autopct='%1.1f%%', shadow=True, startangle=90)\\nplt.title('RPA Project Distribution', fontsize='medium', fontfamily='serif')\\n\\nStep 3: Detail modification and style optimization\\nplt.tight_layout()\\n\\n# Save plot\\nplt.savefig('save_path', bbox_inches='tight', dpi=80)\\nplt.clf()\\n\\nStep 4: Generated the final matplotlib code\\n\\n```python\\nimport matplotlib.pyplot as plt\\n\\n# Dataset from generated csv_data\\nlabels = ['RPA_deployment', 'RPA_development', 'RPA_support', 'RPA_training']\\nsizes = [2400, 2600, 2800, 3000]\\ncolors = ['#00BFFF', '#FFEBCD', '#FF7F50', '#483D8B']\\nexplode = (0.1, 0, 0, 0)\\n\\n# Plotting\\nplt.figure(figsize=(8, 8))\\nplt.pie(sizes, explode=explode, labels=labels, colors=colors, autopct='%1.1f%%', shadow=True, startangle=90)\\nplt.title('RPA Project Distribution', fontsize='medium', fontfamily='serif')\\nplt.tight_layout()\\n\\n# Save plot\\nplt.savefig('save_path', bbox_inches='tight', dpi=80)\\nplt.clf()\\n```\"}]}"
      ]
     },
     "execution_count": 3,
     "metadata": {},
     "output_type": "execute_result"
    }
   ],
   "source": [
    "chart2code[0]"
   ]
  },
  {
   "cell_type": "code",
   "execution_count": 4,
   "id": "aef234fd",
   "metadata": {},
   "outputs": [
    {
     "name": "stdout",
     "output_type": "stream",
     "text": [
      "Original questions: 3579\n",
      "Generated results: 1082\n"
     ]
    }
   ],
   "source": [
    "import json\n",
    "import random\n",
    "\n",
    "# Read the original questions file\n",
    "with open('../chart_modification.jsonl', 'r') as f:\n",
    "    original_questions = [json.loads(line) for line in f]\n",
    "\n",
    "# Read the generated results file\n",
    "with open('../results/result_chart.jsonl', 'r') as f:\n",
    "    generated_results = [json.loads(line) for line in f]\n",
    "\n",
    "print(f\"Original questions: {len(original_questions)}\")\n",
    "print(f\"Generated results: {len(generated_results)}\")"
   ]
  },
  {
   "cell_type": "code",
   "execution_count": 5,
   "id": "0fa9b24e",
   "metadata": {},
   "outputs": [
    {
     "name": "stdout",
     "output_type": "stream",
     "text": [
      "Generated results image paths: 611\n",
      "Questions not in generated results: 2968\n"
     ]
    }
   ],
   "source": [
    "# Extract image_paths from generated results\n",
    "generated_image_paths = set()\n",
    "for result in generated_results:\n",
    "    if 'image_path' in result:\n",
    "        generated_image_paths.add(result['image_path'])\n",
    "\n",
    "print(f\"Generated results image paths: {len(generated_image_paths)}\")\n",
    "\n",
    "# Find questions that are NOT in the generated results\n",
    "missing_questions = []\n",
    "for question in original_questions:\n",
    "    if 'image_path' in question and question['image_path'] not in generated_image_paths:\n",
    "        missing_questions.append(question)\n",
    "\n",
    "print(f\"Questions not in generated results: {len(missing_questions)}\")"
   ]
  },
  {
   "cell_type": "code",
   "execution_count": 6,
   "id": "78b4b0fa",
   "metadata": {},
   "outputs": [
    {
     "name": "stdout",
     "output_type": "stream",
     "text": [
      "Selected 200 questions for test set\n",
      "Test set saved to test_set_questions.jsonl with 200 questions\n",
      "\n",
      "Sample from test set:\n",
      "Image path: /Volumes/External Drive/chart_data/images/141318.png\n",
      "Question: Change the line chart to a bar chart and combine both charts into one.\n"
     ]
    }
   ],
   "source": [
    "# Randomly select 200 questions from the missing ones\n",
    "if len(missing_questions) >= 200:\n",
    "    test_set = random.sample(missing_questions, 200)\n",
    "    print(f\"Selected 200 questions for test set\")\n",
    "else:\n",
    "    test_set = missing_questions\n",
    "    print(f\"Only {len(missing_questions)} questions available, using all of them\")\n",
    "\n",
    "# Save the test set to a new file\n",
    "with open('../test_set_questions.jsonl', 'w') as f:\n",
    "    for question in test_set:\n",
    "        f.write(json.dumps(question) + '\\n')\n",
    "\n",
    "print(f\"Test set saved to test_set_questions.jsonl with {len(test_set)} questions\")\n",
    "\n",
    "# Show a sample of the test set\n",
    "if test_set:\n",
    "    print(\"\\nSample from test set:\")\n",
    "    print(f\"Image path: {test_set[0]['image_path']}\")\n",
    "    if 'question' in test_set[0]:\n",
    "        print(f\"Question: {test_set[0]['question']}\")"
   ]
  },
  {
   "cell_type": "code",
   "execution_count": null,
   "id": "52ac0c07",
   "metadata": {},
   "outputs": [],
   "source": []
  }
 ],
 "metadata": {
  "kernelspec": {
   "display_name": "text2sql",
   "language": "python",
   "name": "python3"
  },
  "language_info": {
   "codemirror_mode": {
    "name": "ipython",
    "version": 3
   },
   "file_extension": ".py",
   "mimetype": "text/x-python",
   "name": "python",
   "nbconvert_exporter": "python",
   "pygments_lexer": "ipython3",
   "version": "3.12.8"
  }
 },
 "nbformat": 4,
 "nbformat_minor": 5
}
